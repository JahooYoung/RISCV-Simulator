{
 "cells": [
  {
   "cell_type": "code",
   "execution_count": 1,
   "metadata": {},
   "outputs": [],
   "source": [
    "import os\n",
    "import re\n",
    "import math\n",
    "from random import random, randint, choice\n",
    "from functools import lru_cache, partial\n",
    "import yaml"
   ]
  },
  {
   "cell_type": "code",
   "execution_count": 2,
   "metadata": {},
   "outputs": [],
   "source": [
    "WORKDIR = '.'\n",
    "CONFIG_FILE = os.path.join(WORKDIR, 'exp3_default_config.yml')\n",
    "TEMP_CONFIG_FILE = os.path.join(WORKDIR, 'exp3_temp_config.yml')\n",
    "SIMULATOR = os.path.join(WORKDIR, '../build/simulator')\n",
    "TRACE_DIR = os.path.join(WORKDIR, '../traces')\n",
    "TRACES = os.listdir(TRACE_DIR)\n",
    "\n",
    "CACTI_DIR = os.path.join(WORKDIR, '../../../lab3/cacti65')\n",
    "CACTI = os.path.join(CACTI_DIR, 'obj_opt/cacti')\n",
    "CACHE_CFG = os.path.join(WORKDIR, 'cache.cfg')\n",
    "TEMP_CACHE_CFG = os.path.join(WORKDIR, 'cache_temp.cfg')\n",
    "\n",
    "SIMULATOR_FREQUENCY = 2  # GHz\n"
   ]
  },
  {
   "cell_type": "code",
   "execution_count": 3,
   "metadata": {},
   "outputs": [],
   "source": [
    "re_access_time = re.compile(r'Access time \\(ns\\): (\\d+\\.\\d+)')\n",
    "\n",
    "@lru_cache(maxsize=None)\n",
    "def get_cache_hit_cycle(size, associativity, cache_line_bytes):\n",
    "    with open(TEMP_CACHE_CFG, 'w') as f:\n",
    "        f.write('-size (bytes) {}\\n'.format(size * 1024))\n",
    "        f.write('-block size (bytes) {}\\n'.format(cache_line_bytes))\n",
    "        f.write('-associativity {}\\n'.format(associativity))\n",
    "        with open(CACHE_CFG, 'r') as ff:\n",
    "            f.write(ff.read())\n",
    "    \n",
    "    with os.popen('qemu-i386 {} -infile {}'.format(CACTI, TEMP_CACHE_CFG)) as f:\n",
    "        output = f.read()\n",
    "        try:\n",
    "            match = re_access_time.search(output)\n",
    "            return math.ceil(float(match.group(1)) * SIMULATOR_FREQUENCY)\n",
    "        except:\n",
    "            return None"
   ]
  },
  {
   "cell_type": "code",
   "execution_count": 4,
   "metadata": {},
   "outputs": [],
   "source": [
    "with open(CONFIG_FILE, 'r') as f:\n",
    "    default_config = yaml.load(f.read())\n",
    "\n",
    "re_amat = re.compile(r'AMAT: (\\d+\\.\\d+) cycles')\n",
    "\n",
    "def get_ATMT(trace, cache_config):\n",
    "    for i in range(len(cache_config)):\n",
    "        hit_cycle = get_cache_hit_cycle(**cache_config[i])\n",
    "        if hit_cycle is None:\n",
    "            return math.inf\n",
    "        default_config['cache'][i].update(cache_config[i])\n",
    "        default_config['cache'][i].update({'hit_cycles': hit_cycle})\n",
    "\n",
    "    with open(TEMP_CONFIG_FILE, 'w') as f:\n",
    "        f.write(yaml.dump(default_config))\n",
    "    \n",
    "    trace = os.path.join(TRACE_DIR, trace)\n",
    "    with os.popen('{} -c {} {}'.format(SIMULATOR, TEMP_CONFIG_FILE, trace)) as f:\n",
    "        output = f.read()\n",
    "        try:\n",
    "            match = re_amat.search(output)\n",
    "            return float(match.group(1))\n",
    "        except:\n",
    "            return math.inf\n"
   ]
  },
  {
   "cell_type": "code",
   "execution_count": 27,
   "metadata": {},
   "outputs": [],
   "source": [
    "def SA(init, gen_func, cost_func, copy_func):\n",
    "    S = (init, cost_func(init))\n",
    "    best = (copy_func(S[0]), S[1])\n",
    "    print(best)\n",
    "    T = 8e-1\n",
    "    alpha = 0.9\n",
    "    while T > 1e-4:\n",
    "        temp = gen_func(S[0])\n",
    "        Sp = (temp, cost_func(temp))\n",
    "        print('Temp:', T)\n",
    "        print(Sp)\n",
    "        if Sp[1] < S[1]:\n",
    "            S = Sp\n",
    "            if S[1] < best[1]:\n",
    "                best = (copy_func(S[0]), S[1])\n",
    "                print('!!! best:', best)\n",
    "        else:\n",
    "            if random() < math.exp((S[1] - Sp[1]) / T):\n",
    "                S = Sp\n",
    "        T *= alpha\n",
    "    return best"
   ]
  },
  {
   "cell_type": "code",
   "execution_count": 34,
   "metadata": {},
   "outputs": [
    {
     "output_type": "stream",
     "name": "stdout",
     "text": "([{'size': 128, 'associativity': 2, 'cache_line_bytes': 4096}, {'size': 512, 'associativity': 4, 'cache_line_bytes': 8192}, {'size': 8192, 'associativity': 4, 'cache_line_bytes': 8192}], 1.11)\nTemp: 0.8\n([{'size': 128, 'associativity': 2, 'cache_line_bytes': 4096}, {'size': 512, 'associativity': 4, 'cache_line_bytes': 8192}, {'size': 8192, 'associativity': 2, 'cache_line_bytes': 8192}], 1.11)\nTemp: 0.7200000000000001\n([{'size': 128, 'associativity': 2, 'cache_line_bytes': 4096}, {'size': 512, 'associativity': 4, 'cache_line_bytes': 4096}, {'size': 8192, 'associativity': 2, 'cache_line_bytes': 8192}], 1.12)\nTemp: 0.6480000000000001\n([{'size': 128, 'associativity': 2, 'cache_line_bytes': 4096}, {'size': 512, 'associativity': 4, 'cache_line_bytes': 4096}, {'size': 8192, 'associativity': 4, 'cache_line_bytes': 8192}], 1.12)\nTemp: 0.5832000000000002\n([{'size': 128, 'associativity': 2, 'cache_line_bytes': 4096}, {'size': 512, 'associativity': 4, 'cache_line_bytes': 4096}, {'size': 8192, 'associativity': 2, 'cache_line_bytes': 8192}], 1.12)\nTemp: 0.5248800000000001\n([{'size': 128, 'associativity': 2, 'cache_line_bytes': 4096}, {'size': 512, 'associativity': 4, 'cache_line_bytes': 4096}, {'size': 8192, 'associativity': 2, 'cache_line_bytes': 4096}], 1.12)\nTemp: 0.47239200000000015\n([{'size': 128, 'associativity': 2, 'cache_line_bytes': 4096}, {'size': 512, 'associativity': 4, 'cache_line_bytes': 2048}, {'size': 8192, 'associativity': 2, 'cache_line_bytes': 4096}], 1.12)\nTemp: 0.42515280000000016\n([{'size': 128, 'associativity': 4, 'cache_line_bytes': 4096}, {'size': 512, 'associativity': 4, 'cache_line_bytes': 2048}, {'size': 8192, 'associativity': 2, 'cache_line_bytes': 4096}], inf)\n"
    },
    {
     "output_type": "error",
     "ename": "KeyboardInterrupt",
     "evalue": "",
     "traceback": [
      "\u001b[0;31m---------------------------------------------------------------------------\u001b[0m",
      "\u001b[0;31mKeyboardInterrupt\u001b[0m                         Traceback (most recent call last)",
      "\u001b[0;32m<ipython-input-34-9e05a5ce0b5a>\u001b[0m in \u001b[0;36m<module>\u001b[0;34m\u001b[0m\n\u001b[1;32m     24\u001b[0m \u001b[0mtrace\u001b[0m \u001b[0;34m=\u001b[0m \u001b[0mTRACES\u001b[0m\u001b[0;34m[\u001b[0m\u001b[0;36m0\u001b[0m\u001b[0;34m]\u001b[0m\u001b[0;34m\u001b[0m\u001b[0;34m\u001b[0m\u001b[0m\n\u001b[1;32m     25\u001b[0m \u001b[0;31m# print((cache_config, get_ATMT(trace, cache_config)))\u001b[0m\u001b[0;34m\u001b[0m\u001b[0;34m\u001b[0m\u001b[0;34m\u001b[0m\u001b[0m\n\u001b[0;32m---> 26\u001b[0;31m \u001b[0mbest_config\u001b[0m \u001b[0;34m=\u001b[0m \u001b[0mSA\u001b[0m\u001b[0;34m(\u001b[0m\u001b[0mcache_config\u001b[0m\u001b[0;34m,\u001b[0m \u001b[0mgen_new_config\u001b[0m\u001b[0;34m,\u001b[0m \u001b[0mpartial\u001b[0m\u001b[0;34m(\u001b[0m\u001b[0mget_ATMT\u001b[0m\u001b[0;34m,\u001b[0m \u001b[0mtrace\u001b[0m\u001b[0;34m)\u001b[0m\u001b[0;34m,\u001b[0m \u001b[0mcopy_config\u001b[0m\u001b[0;34m)\u001b[0m\u001b[0;34m\u001b[0m\u001b[0;34m\u001b[0m\u001b[0m\n\u001b[0m\u001b[1;32m     27\u001b[0m \u001b[0;34m\u001b[0m\u001b[0m\n\u001b[1;32m     28\u001b[0m \u001b[0mprint\u001b[0m\u001b[0;34m(\u001b[0m\u001b[0;34m'========================= best of all ================================'\u001b[0m\u001b[0;34m)\u001b[0m\u001b[0;34m\u001b[0m\u001b[0;34m\u001b[0m\u001b[0m\n",
      "\u001b[0;32m<ipython-input-27-d3f3206e7f99>\u001b[0m in \u001b[0;36mSA\u001b[0;34m(init, gen_func, cost_func, copy_func)\u001b[0m\n\u001b[1;32m      7\u001b[0m     \u001b[0;32mwhile\u001b[0m \u001b[0mT\u001b[0m \u001b[0;34m>\u001b[0m \u001b[0;36m1e-4\u001b[0m\u001b[0;34m:\u001b[0m\u001b[0;34m\u001b[0m\u001b[0;34m\u001b[0m\u001b[0m\n\u001b[1;32m      8\u001b[0m         \u001b[0mtemp\u001b[0m \u001b[0;34m=\u001b[0m \u001b[0mgen_func\u001b[0m\u001b[0;34m(\u001b[0m\u001b[0mS\u001b[0m\u001b[0;34m[\u001b[0m\u001b[0;36m0\u001b[0m\u001b[0;34m]\u001b[0m\u001b[0;34m)\u001b[0m\u001b[0;34m\u001b[0m\u001b[0;34m\u001b[0m\u001b[0m\n\u001b[0;32m----> 9\u001b[0;31m         \u001b[0mSp\u001b[0m \u001b[0;34m=\u001b[0m \u001b[0;34m(\u001b[0m\u001b[0mtemp\u001b[0m\u001b[0;34m,\u001b[0m \u001b[0mcost_func\u001b[0m\u001b[0;34m(\u001b[0m\u001b[0mtemp\u001b[0m\u001b[0;34m)\u001b[0m\u001b[0;34m)\u001b[0m\u001b[0;34m\u001b[0m\u001b[0;34m\u001b[0m\u001b[0m\n\u001b[0m\u001b[1;32m     10\u001b[0m         \u001b[0mprint\u001b[0m\u001b[0;34m(\u001b[0m\u001b[0;34m'Temp:'\u001b[0m\u001b[0;34m,\u001b[0m \u001b[0mT\u001b[0m\u001b[0;34m)\u001b[0m\u001b[0;34m\u001b[0m\u001b[0;34m\u001b[0m\u001b[0m\n\u001b[1;32m     11\u001b[0m         \u001b[0mprint\u001b[0m\u001b[0;34m(\u001b[0m\u001b[0mSp\u001b[0m\u001b[0;34m)\u001b[0m\u001b[0;34m\u001b[0m\u001b[0;34m\u001b[0m\u001b[0m\n",
      "\u001b[0;32m<ipython-input-4-63dfd50cb333>\u001b[0m in \u001b[0;36mget_ATMT\u001b[0;34m(trace, cache_config)\u001b[0m\n\u001b[1;32m      6\u001b[0m \u001b[0;32mdef\u001b[0m \u001b[0mget_ATMT\u001b[0m\u001b[0;34m(\u001b[0m\u001b[0mtrace\u001b[0m\u001b[0;34m,\u001b[0m \u001b[0mcache_config\u001b[0m\u001b[0;34m)\u001b[0m\u001b[0;34m:\u001b[0m\u001b[0;34m\u001b[0m\u001b[0;34m\u001b[0m\u001b[0m\n\u001b[1;32m      7\u001b[0m     \u001b[0;32mfor\u001b[0m \u001b[0mi\u001b[0m \u001b[0;32min\u001b[0m \u001b[0mrange\u001b[0m\u001b[0;34m(\u001b[0m\u001b[0mlen\u001b[0m\u001b[0;34m(\u001b[0m\u001b[0mcache_config\u001b[0m\u001b[0;34m)\u001b[0m\u001b[0;34m)\u001b[0m\u001b[0;34m:\u001b[0m\u001b[0;34m\u001b[0m\u001b[0;34m\u001b[0m\u001b[0m\n\u001b[0;32m----> 8\u001b[0;31m         \u001b[0mhit_cycle\u001b[0m \u001b[0;34m=\u001b[0m \u001b[0mget_cache_hit_cycle\u001b[0m\u001b[0;34m(\u001b[0m\u001b[0;34m**\u001b[0m\u001b[0mcache_config\u001b[0m\u001b[0;34m[\u001b[0m\u001b[0mi\u001b[0m\u001b[0;34m]\u001b[0m\u001b[0;34m)\u001b[0m\u001b[0;34m\u001b[0m\u001b[0;34m\u001b[0m\u001b[0m\n\u001b[0m\u001b[1;32m      9\u001b[0m         \u001b[0;32mif\u001b[0m \u001b[0mhit_cycle\u001b[0m \u001b[0;32mis\u001b[0m \u001b[0;32mNone\u001b[0m\u001b[0;34m:\u001b[0m\u001b[0;34m\u001b[0m\u001b[0;34m\u001b[0m\u001b[0m\n\u001b[1;32m     10\u001b[0m             \u001b[0;32mreturn\u001b[0m \u001b[0mmath\u001b[0m\u001b[0;34m.\u001b[0m\u001b[0minf\u001b[0m\u001b[0;34m\u001b[0m\u001b[0;34m\u001b[0m\u001b[0m\n",
      "\u001b[0;32m<ipython-input-3-e7eefacd81c4>\u001b[0m in \u001b[0;36mget_cache_hit_cycle\u001b[0;34m(size, associativity, cache_line_bytes)\u001b[0m\n\u001b[1;32m     11\u001b[0m \u001b[0;34m\u001b[0m\u001b[0m\n\u001b[1;32m     12\u001b[0m     \u001b[0;32mwith\u001b[0m \u001b[0mos\u001b[0m\u001b[0;34m.\u001b[0m\u001b[0mpopen\u001b[0m\u001b[0;34m(\u001b[0m\u001b[0;34m'qemu-i386 {} -infile {}'\u001b[0m\u001b[0;34m.\u001b[0m\u001b[0mformat\u001b[0m\u001b[0;34m(\u001b[0m\u001b[0mCACTI\u001b[0m\u001b[0;34m,\u001b[0m \u001b[0mTEMP_CACHE_CFG\u001b[0m\u001b[0;34m)\u001b[0m\u001b[0;34m)\u001b[0m \u001b[0;32mas\u001b[0m \u001b[0mf\u001b[0m\u001b[0;34m:\u001b[0m\u001b[0;34m\u001b[0m\u001b[0;34m\u001b[0m\u001b[0m\n\u001b[0;32m---> 13\u001b[0;31m         \u001b[0moutput\u001b[0m \u001b[0;34m=\u001b[0m \u001b[0mf\u001b[0m\u001b[0;34m.\u001b[0m\u001b[0mread\u001b[0m\u001b[0;34m(\u001b[0m\u001b[0;34m)\u001b[0m\u001b[0;34m\u001b[0m\u001b[0;34m\u001b[0m\u001b[0m\n\u001b[0m\u001b[1;32m     14\u001b[0m         \u001b[0;32mtry\u001b[0m\u001b[0;34m:\u001b[0m\u001b[0;34m\u001b[0m\u001b[0;34m\u001b[0m\u001b[0m\n\u001b[1;32m     15\u001b[0m             \u001b[0mmatch\u001b[0m \u001b[0;34m=\u001b[0m \u001b[0mre_access_time\u001b[0m\u001b[0;34m.\u001b[0m\u001b[0msearch\u001b[0m\u001b[0;34m(\u001b[0m\u001b[0moutput\u001b[0m\u001b[0;34m)\u001b[0m\u001b[0;34m\u001b[0m\u001b[0;34m\u001b[0m\u001b[0m\n",
      "\u001b[0;31mKeyboardInterrupt\u001b[0m: "
     ]
    }
   ],
   "source": [
    "ATTRS = ['size', 'associativity', 'cache_line_bytes']\n",
    "ATTR_MIN_MAX = {\n",
    "    'size': (32, 32768),\n",
    "    'associativity': (2, 16),\n",
    "    'cache_line_bytes': (256, 8192),\n",
    "}\n",
    "# cache_config = [{k: cc[k] for k in cc if k in ATTRS} for cc in default_config['cache']]\n",
    "cache_config = [{'size': 128, 'associativity': 2, 'cache_line_bytes': 4096}, {'size': 512, 'associativity': 4, 'cache_line_bytes': 8192}, {'size': 8192, 'associativity': 4, 'cache_line_bytes': 8192}]\n",
    "\n",
    "def copy_config(cache_config):\n",
    "    return [cc.copy() for cc in cache_config]\n",
    "\n",
    "def gen_new_config(cache_config):\n",
    "    new_config = copy_config(cache_config)\n",
    "    level = choice([0, 1, 2, 2, 2])\n",
    "    attr = choice(ATTRS)\n",
    "    if (randint(0, 3) <= 1 and new_config[level][attr] > ATTR_MIN_MAX[attr][0]) or new_config[level][attr] >= ATTR_MIN_MAX[attr][1]:\n",
    "        new_config[level][attr] //= 2\n",
    "    else:\n",
    "        new_config[level][attr] *= 2\n",
    "    # print(new_config)\n",
    "    return new_config\n",
    "\n",
    "trace = TRACES[0]\n",
    "# print((cache_config, get_ATMT(trace, cache_config)))\n",
    "best_config = SA(cache_config, gen_new_config, partial(get_ATMT, trace), copy_config)\n",
    "\n",
    "print('========================= best of all ================================')\n",
    "print((best_config[0], get_ATMT(trace, best_config[0])))"
   ]
  },
  {
   "cell_type": "code",
   "execution_count": 25,
   "metadata": {},
   "outputs": [
    {
     "output_type": "stream",
     "name": "stdout",
     "text": "([{'size': 128, 'associativity': 2, 'cache_line_bytes': 4096}, {'size': 512, 'associativity': 4, 'cache_line_bytes': 8192}, {'size': 8192, 'associativity': 4, 'cache_line_bytes': 8192}], 1.11)\n"
    }
   ],
   "source": [
    "\n",
    "# print((cache_config, get_ATMT(trace, cache_config)))"
   ]
  }
 ],
 "metadata": {
  "language_info": {
   "codemirror_mode": {
    "name": "ipython",
    "version": 3
   },
   "file_extension": ".py",
   "mimetype": "text/x-python",
   "name": "python",
   "nbconvert_exporter": "python",
   "pygments_lexer": "ipython3",
   "version": "3.8.2-final"
  },
  "orig_nbformat": 2,
  "kernelspec": {
   "name": "python38264bitsimulatorvenvb2a1e1ec69f945e981a0e5e67daf7532",
   "display_name": "Python 3.8.2 64-bit ('simulator': venv)"
  }
 },
 "nbformat": 4,
 "nbformat_minor": 2
}
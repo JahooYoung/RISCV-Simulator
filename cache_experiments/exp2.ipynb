{
 "cells": [
  {
   "cell_type": "code",
   "execution_count": 1,
   "metadata": {},
   "outputs": [],
   "source": [
    "import os\n",
    "import re\n",
    "from itertools import product\n",
    "from collections import defaultdict"
   ]
  },
  {
   "cell_type": "code",
   "execution_count": 2,
   "metadata": {},
   "outputs": [],
   "source": [
    "WORKDIR = '.'\n",
    "SIMULATOR = os.path.join(WORKDIR, '../build/simulator')\n",
    "SAMPLE_DIR = os.path.join(WORKDIR, '../samples')\n",
    "SAMPLES = [  # (filename, args)\n",
    "    ('add', ''),\n",
    "    ('mul-div', ''),\n",
    "    ('n!', ''),\n",
    "    ('simple-fuction', ''),\n",
    "    ('qsort', ''),\n",
    "    ('quick_sort', '100000 1 1111'),\n",
    "    ('ackermann', '3 8'),\n",
    "    ('matrix_mul', '100 1 1111'),\n",
    "    ('malloc_free', '50000 1111'),\n",
    "    ('dhrystone', '200000'),\n",
    "]\n",
    "CONFIGS = ['exp2_no_cache.yml', 'exp2_default_cache.yml']"
   ]
  },
  {
   "cell_type": "code",
   "execution_count": 4,
   "metadata": {},
   "outputs": [
    {
     "output_type": "stream",
     "name": "stdout",
     "text": "|samples|动态指令数|CPI (no_cache)|CPI (default_cache)|\n|-------|---------|--------------|------------------|\n|add|290|125.862|11.91|\n|mul-div|312|125.321|11.154|\n|n!|295|126.102|11.8|\n|simple-fuction|290|125.862|12.772|\n|qsort|5397|104.577|1.75|\n|quick_sort|18485158|117.571|1.721|\n|ackermann|27847017|110.03|1.155|\n|matrix_mul|28696552|100.497|1.51|\n|malloc_free|68232830|111.482|2.687|\n|dhrystone|42847123|108.51|1.335|\n"
    }
   ],
   "source": [
    "def run_sample(sample, args, config_file):\n",
    "    config_file = os.path.join(WORKDIR, config_file)\n",
    "    sample = os.path.join(SAMPLE_DIR, sample)\n",
    "    with os.popen('{} -c {} {} {}'.format(SIMULATOR, config_file, sample, args)) as result:\n",
    "        output = '\\n'.join(result.readlines())\n",
    "        try:\n",
    "            match = re.search(r'instructions=(\\d+) cycles=(\\d+) CPI=(\\d+\\.\\d+)', output)\n",
    "            inst_count = int(match.group(1))\n",
    "            cycles = int(match.group(2))\n",
    "            cpi = float(match.group(3))\n",
    "            return inst_count, cycles, cpi\n",
    "        except:\n",
    "            print(output)\n",
    "\n",
    "result = defaultdict(lambda: {})\n",
    "for config_file in CONFIGS:\n",
    "    for sample, args in SAMPLES:\n",
    "        result[sample][config_file] = run_sample(sample, args, config_file)\n",
    "\n",
    "print('|samples|动态指令数|CPI (no_cache)|CPI (default_cache)|')\n",
    "print('|-------|---------|--------------|------------------|')\n",
    "for sample, _ in SAMPLES:\n",
    "    res = result[sample]\n",
    "    print('|{}|{}|{}|{}|'.format(sample, res[CONFIGS[0]][0], res[CONFIGS[0]][2], res[CONFIGS[1]][2]))"
   ]
  },
  {
   "cell_type": "code",
   "execution_count": null,
   "metadata": {},
   "outputs": [],
   "source": []
  }
 ],
 "metadata": {
  "language_info": {
   "codemirror_mode": {
    "name": "ipython",
    "version": 3
   },
   "file_extension": ".py",
   "mimetype": "text/x-python",
   "name": "python",
   "nbconvert_exporter": "python",
   "pygments_lexer": "ipython3",
   "version": "3.8.2-final"
  },
  "orig_nbformat": 2,
  "kernelspec": {
   "name": "python38264bitsimulatorvenvb2a1e1ec69f945e981a0e5e67daf7532",
   "display_name": "Python 3.8.2 64-bit ('simulator': venv)"
  }
 },
 "nbformat": 4,
 "nbformat_minor": 2
}